{
  "nbformat": 4,
  "nbformat_minor": 0,
  "metadata": {
    "colab": {
      "provenance": []
    },
    "kernelspec": {
      "name": "python3",
      "display_name": "Python 3"
    },
    "language_info": {
      "name": "python"
    }
  },
  "cells": [
    {
      "cell_type": "markdown",
      "source": [
        "**PYTHON BASICS QUESTION**\n",
        "\n",
        "Q1. What is Python, and why is it popular?\n",
        "\n",
        "Ans. Python is a High-level, iterpreted programming language known for its simplicity, readability, and versatility. It is widely used for Web development, Data Science, Artificial Intelligence and more.\n",
        "\n",
        "Python is Popular because -\n",
        "\n",
        "- Easy to Learn and Readable\n",
        "- Versatile\n",
        "- Large numbe rof libraries\n",
        "- Growing Demand in Industry\n",
        "\n",
        "\n",
        "\n",
        "\n",
        "Q2. What is an interpreter in Pyhton?\n",
        "\n",
        "Ans. An Interpreter in Python is a Program that executes Python Code line by line rather than compiling the entire program at once. It translates high-level Python code into machine code that the computer can understabd and execute.\n",
        "\n",
        "\n",
        "\n",
        "\n",
        "Q3. What are Pre-define Keywords in Python?\n",
        "\n",
        "Ans.In Python, Keywords are reserved words that have special meanings and cannot be used as variable names, functions names, or indentifiers. Keywords are case- sensitive.\n",
        "Some Keywords are - False, none, if, else, break, class, continue, etc.\n",
        "\n",
        "\n",
        "\n",
        "Q4. Can Keywords be used as Vaiable names?\n",
        "\n",
        "Ans. No, Keywords cannot be used as Variable names.\n",
        "\n",
        "\n",
        "\n",
        "Q5. What is mutability in Python?\n",
        "\n",
        "Ans. Mutability in Python refers to whether an object's value can be changed after it is created. Based on this, Python objects are classified into mutable and immutable types.\n",
        "\n",
        "\n",
        "\n",
        "Q6. Why are lists mutable, but tuples are immutable?\n",
        "\n",
        "Ans. The main reason lists are mutable while tuples are immutable lies in their memory structure and intended usage.\n",
        "\n",
        "Lists (Mutable) - Dynamic Memory Allocation\n",
        "- Lists are stored in dynamic memory and can grow or shrink as needed.\n",
        "- Each Element in a list is stored as a reference to an object in memory, allowing modifications.\n",
        "\n",
        "Tuples(Immutable) - Fixed Memory Allocation\n",
        "- Tuples use fixed memory storage to optimize performance.\n",
        "- They store direct values instead of reference (in most cases), preventing modifications.\n",
        "\n",
        "\n",
        "\n",
        "Q7. What is Difference between \" ==\" and \"is\" operators in Python?\n",
        "\n",
        "Ans. Python provides both \"==\" and \"is\" operators, but they have different purposes.\n",
        "\n",
        "\"==\" (Equality Operator)\n",
        "- Checks if two values are equal (i.e., their contents are same).\n",
        "- It does not check if they are the same object in memory.\n",
        "\n",
        "\"is\" (Identity Operator)\n",
        "- Checks if two variables refer to the same object in memory (i.e., they have the same memory address).\n",
        "- Used in memory object identity, not values.\n",
        "\n",
        "\n",
        "\n",
        "Q8. What are logical operators in python?\n",
        "\n",
        "Ans. Logical operators in Python are used to combine conditional statements and return Boolean Values (True or False).\n",
        "\n",
        "Three type sor Logical operators -\n",
        " - and (Logical AND)\n",
        " - or (Logical OR)\n",
        " - not (Logical NOT)\n",
        "\n",
        "\n",
        "\n",
        " Q9. What is Typecasting in Python?\n",
        "\n",
        " Ans. Type Casting in Pyhton is a process of Converting one data type into another. Python provides two types of type casting -\n",
        "\n",
        " - Implicit Type Casting (Automation Conversion)\n",
        " - Explicit Type Casting (Manual Conversion)\n",
        "\n",
        "\n",
        "\n",
        " Q10. What is the Difference between  implicit and explicit type casting?\n",
        "\n",
        " Ans. IMPLICIT TYPE CASTING (Automation Conversion)\n",
        "\n",
        " - Python automatically converts a smaller data type to a larger one.\n",
        " - No data loss occurs.\n",
        " - Done to maintain precision in calculations.\n",
        "\n",
        "\n",
        " EXPLICIT TYPE CASTING (Manual Conversion)\n",
        "- The Programmer manually converts one type into another.\n",
        "- Done using built-in function like int(), float(), str(), etc.\n",
        "- May cause data loss if the conversion isn't possible.\n",
        "\n",
        "\n",
        "\n",
        "\n",
        "Q11. What is the purpose of conditional statements in Python?\n",
        "\n",
        "Ans. Conditional statements in Python are used to make decisions based on certain conditions. They alow the programm to execute specific blocks of code depending on whether a condition is True or False.\n",
        "\n",
        "The main purpose of Conditional statements is to enable decision- making in programs, making them more flexible and dynamic.\n",
        "\n",
        "KEY CONDITIONAL STATEMENTS IN PYTHON -\n",
        "- if statement - Executes a block of code if the condition is True.\n",
        "- elif statement - Testes multiple conditions, only executing if the previous if or elif conditions were false.\n",
        "- else statement - Executes a block of code if none of the previous conditions are True.\n",
        "\n",
        "\n",
        "\n",
        "\n",
        "Q12. How does the elif statement work?\n",
        "\n",
        "Ans. The elif statement in Python is used to check multiple conditions after an initial if statement. It allows for checking more than one condition, but only the first True condition will be executed.\n",
        "\n",
        "HOw it works:-\n",
        "- If the if condition is true, it executes that block of code, and skips the elif and else blocks.\n",
        "\n",
        "- If the if condition is false, it checks each elif condition, in order. It will execute the first elif block where the condition is True and skip the rest.\n",
        "\n",
        "- If no if or elif conditions are True, it executes the else block, if provided.\n",
        "\n",
        "\n",
        "\n",
        "\n",
        "Q13. What is the difference between for and while loops?\n",
        "\n",
        "Ans. Both for and while loops are used to repeat a block of code multiple times, but they operate differently and are suited for different use cases.\n",
        "\n",
        " 1. for Loop\n",
        " - The for loop is generally used when you know the number of iterations in advance, or you are iterating over a sequence.\n",
        " - It iterates over a sequence and executes the code of block for each element in that sequence.\n",
        "\n",
        " 2. while Loop\n",
        " - The While Loop is used when you want to repeat a blok of code an indefinite number of times until a specific condition is False.\n",
        " - It chekcs the condition before executing the code of block and repeats it while the condition remains True.\n",
        "\n",
        "\n",
        "\n",
        "\n",
        " Q14. Describe a scenario where a While loop is more suitable than s for loop?\n",
        "\n",
        " Ans. A While Loop is more suitable when you need to repeat an action until a certain condition is met, and the nember of iterations is unknown  ahead of time. For example, consider a situation where you want to continuously ask a user for input until they enter a valid response. Since the number of attempts is not known, the while loop is ideal for this scenario.\n",
        "\n",
        "\n",
        " EXAMPLE SCENARIO: ASKING FOR A VALID AGE\n",
        "\n",
        " Let's say we need the user for their age and validate that the input is a positive integer. We don't Know how many times the user will input an invalid value, so a while loop will repeatedly ask until the user provides a valid input."
      ],
      "metadata": {
        "id": "eoRovPnmDukH"
      }
    },
    {
      "cell_type": "code",
      "source": [
        "While True:\n",
        "age = input(\"please enter your age: \")\n",
        "if age.isdigit() and int(age)>0:\n",
        "  print(f\"Your age is {age}.\")\n",
        "  break\n",
        "  else:\n",
        "    print(\"Invalid input. Please enter a positive integer for age.\")"
      ],
      "metadata": {
        "id": "hTD-J99ub06M"
      },
      "execution_count": null,
      "outputs": []
    },
    {
      "cell_type": "markdown",
      "source": [
        "**PRACTICAL QUESTION**\n"
      ],
      "metadata": {
        "id": "a7x9_L7idUd8"
      }
    },
    {
      "cell_type": "code",
      "source": [
        "# Q1. Q1. Write a Pyhton program to print \"Hello World!\"\n",
        "\n",
        "# Ans\n",
        "\n",
        "print(\"Hello World!\")"
      ],
      "metadata": {
        "colab": {
          "base_uri": "https://localhost:8080/"
        },
        "id": "BVUUhFv2dhHs",
        "outputId": "d2cbaeaf-97e3-49bf-d175-02247667c3af"
      },
      "execution_count": null,
      "outputs": [
        {
          "output_type": "stream",
          "name": "stdout",
          "text": [
            "Hello World!\n"
          ]
        }
      ]
    },
    {
      "cell_type": "code",
      "source": [
        "# Q2 .Write a Python program that display your name and age.\n",
        "\n",
        "\n",
        "# Ans\n",
        "\n",
        "name = \"Naz Bano\"\n",
        "Age=24\n",
        "print(\"My name is\", name)\n",
        "print(\"I am\", Age, \"years old\")"
      ],
      "metadata": {
        "colab": {
          "base_uri": "https://localhost:8080/"
        },
        "id": "4hjDTKBfebV7",
        "outputId": "74dcec16-09b7-42d0-b37c-42383eb24602"
      },
      "execution_count": null,
      "outputs": [
        {
          "output_type": "stream",
          "name": "stdout",
          "text": [
            "My name is Naz Bano\n",
            "I am 24 years old\n"
          ]
        }
      ]
    },
    {
      "cell_type": "code",
      "source": [
        "#Q3. Write code to print all the pre-defined keywords in python using the keyword library.\n",
        "\n",
        "# Ans\n",
        "\n",
        "import keyword\n",
        "print(\"Python Keywords are:\")\n",
        "print(keyword.kwlist)"
      ],
      "metadata": {
        "colab": {
          "base_uri": "https://localhost:8080/"
        },
        "id": "7_v9Hpa5fIVo",
        "outputId": "e33f9654-1671-4314-c0f2-9bd6b60fcdaf"
      },
      "execution_count": null,
      "outputs": [
        {
          "output_type": "stream",
          "name": "stdout",
          "text": [
            "Python Keywords are:\n",
            "['False', 'None', 'True', 'and', 'as', 'assert', 'async', 'await', 'break', 'class', 'continue', 'def', 'del', 'elif', 'else', 'except', 'finally', 'for', 'from', 'global', 'if', 'import', 'in', 'is', 'lambda', 'nonlocal', 'not', 'or', 'pass', 'raise', 'return', 'try', 'while', 'with', 'yield']\n"
          ]
        }
      ]
    },
    {
      "cell_type": "code",
      "source": [
        "# Q4. Write a program that checks if a given word is a Python keyword.\n",
        "\n",
        "# Ans\n",
        "\n",
        "import keyword\n",
        "word=input(\"Enter a word: \")\n",
        "if keyword.iskeyword(word):\n",
        "  print(f\"{word} is a Python keyword.\")\n",
        "else:\n",
        "  print(f\"{word} is not a Python keyword.\")"
      ],
      "metadata": {
        "colab": {
          "base_uri": "https://localhost:8080/"
        },
        "id": "4jS3ctO1g53r",
        "outputId": "cdf8a82b-a4e9-485f-a949-78e8ef9bcc35"
      },
      "execution_count": null,
      "outputs": [
        {
          "output_type": "stream",
          "name": "stdout",
          "text": [
            "Enter a word: cat\n",
            "cat is not a Python keyword.\n"
          ]
        }
      ]
    },
    {
      "cell_type": "code",
      "source": [
        "# Q5.  Create a List and Tuple in Python, and demonstrate how attempting to change an element works differently for each.\n",
        "\n",
        "# Ans\n",
        "\n",
        "# creating a list (mutable)\n",
        "my_list= [1,2,3,4,5]\n",
        "print(\"Orignal List\", my_list)"
      ],
      "metadata": {
        "colab": {
          "base_uri": "https://localhost:8080/"
        },
        "id": "IY9XmmBnhF1G",
        "outputId": "397dd7f5-5ed6-4b00-b253-15f7354a3fba"
      },
      "execution_count": null,
      "outputs": [
        {
          "output_type": "stream",
          "name": "stdout",
          "text": [
            "Orignal List [1, 2, 3, 4, 5]\n"
          ]
        }
      ]
    },
    {
      "cell_type": "code",
      "source": [
        "# Modifying an element in the list\n",
        "my_list[2] = 10\n",
        "print(\"Modified List\", my_list)"
      ],
      "metadata": {
        "colab": {
          "base_uri": "https://localhost:8080/"
        },
        "id": "NtiX6-meiBrE",
        "outputId": "dd146c09-fe9f-4b5a-f4e6-82c85445cf44"
      },
      "execution_count": null,
      "outputs": [
        {
          "output_type": "stream",
          "name": "stdout",
          "text": [
            "Modified List [1, 2, 10, 4, 5]\n"
          ]
        }
      ]
    },
    {
      "cell_type": "code",
      "source": [
        "# creating a tuple (immutable)\n",
        "my_tuple = [1,2,3,4,5]\n",
        "print(\"Orignal Tuple\", my_tuple)"
      ],
      "metadata": {
        "colab": {
          "base_uri": "https://localhost:8080/"
        },
        "id": "TkluPcn_iQkE",
        "outputId": "327d7db1-fb89-4ae3-cfe4-176a77e56df0"
      },
      "execution_count": null,
      "outputs": [
        {
          "output_type": "stream",
          "name": "stdout",
          "text": [
            "Orignal Tuple [1, 2, 3, 4, 5]\n"
          ]
        }
      ]
    },
    {
      "cell_type": "code",
      "source": [
        "#Attempting to modify an element in the tuple (this will raise an error)\n",
        "\n",
        "try:\n",
        "  my_tuple[2]=10  # tuples do not allow item assignment\n",
        "  except TypeError as e:\n",
        "    print(\"Error:\", e)"
      ],
      "metadata": {
        "id": "URC5jglji6E0"
      },
      "execution_count": null,
      "outputs": []
    },
    {
      "cell_type": "code",
      "source": [
        "# Q6. Write a function to demonstrate the behavior of mutable and immutable arguments when passed to a function.\n",
        "\n",
        "# Ans\n",
        "\n",
        "def modify_values(immutable_obj, mutable_obj):\n",
        "    # Attempting to modify an immutable object (integer)\n",
        "    immutable_obj += 10  # This creates a new integer, doesn't modify the original\n",
        "\n",
        "    # Modifying a mutable object (list)\n",
        "    mutable_obj.append(10)  # This modifies the original list\n",
        "\n",
        "    print(\"Inside function - Immutable object:\", immutable_obj)\n",
        "    print(\"Inside function - Mutable object:\", mutable_obj)\n",
        "\n",
        "# Immutable argument (integer)\n",
        "num = 5\n",
        "\n",
        "# Mutable argument (list)\n",
        "lst = [1, 2, 3]\n",
        "\n",
        "print(\"Before function call - Immutable object:\", num)\n",
        "print(\"Before function call - Mutable object:\", lst)\n",
        "\n",
        "# Call the function\n",
        "modify_values(num, lst)\n",
        "\n",
        "print(\"\\nAfter function call - Immutable object:\", num)  # Unchanged\n",
        "print(\"After function call - Mutable object:\", lst)  # Changed"
      ],
      "metadata": {
        "colab": {
          "base_uri": "https://localhost:8080/"
        },
        "id": "35zQ2yGwjCAw",
        "outputId": "42617e04-9a4e-4b5c-de2a-6b8f3ceff2d8"
      },
      "execution_count": null,
      "outputs": [
        {
          "output_type": "stream",
          "name": "stdout",
          "text": [
            "Before function call - Immutable object: 5\n",
            "Before function call - Mutable object: [1, 2, 3]\n",
            "Inside function - Immutable object: 15\n",
            "Inside function - Mutable object: [1, 2, 3, 10]\n",
            "\n",
            "After function call - Immutable object: 5\n",
            "After function call - Mutable object: [1, 2, 3, 10]\n"
          ]
        }
      ]
    },
    {
      "cell_type": "code",
      "source": [
        "# Q7. Write a function to demonstrate the behavior of mutable and immutable arguments?\n",
        "\n",
        "# Ans.\n",
        "\n",
        "def demonstrate_mutable_immutable(immutable_arg, mutable_arg):\n",
        "    # Try modifying the immutable argument (integer)\n",
        "    immutable_arg += 1\n",
        "    print(\"Inside function (immutable):\", immutable_arg)\n",
        "\n",
        "    # Modify the mutable argument (list)\n",
        "    mutable_arg.append(4)\n",
        "    print(\"Inside function (mutable):\", mutable_arg)\n",
        "\n",
        "\n",
        "# Immutable argument (integer)\n",
        "num = 10\n",
        "\n",
        "# Mutable argument (list)\n",
        "lst = [1, 2, 3]\n",
        "\n",
        "print(\"Before function call:\")\n",
        "print(\"Immutable:\", num)\n",
        "print(\"Mutable:\", lst)\n",
        "\n",
        "# Call function\n",
        "demonstrate_mutable_immutable(num, lst)\n",
        "\n",
        "print(\"After function call:\")\n",
        "print(\"Immutable:\", num)  # Remains unchanged\n",
        "print(\"Mutable:\", lst)  # Changed due to mutability"
      ],
      "metadata": {
        "id": "M065EUXTjfNA",
        "colab": {
          "base_uri": "https://localhost:8080/"
        },
        "outputId": "9d28d80e-98a4-414a-fe96-032c0d8460e2"
      },
      "execution_count": 1,
      "outputs": [
        {
          "output_type": "stream",
          "name": "stdout",
          "text": [
            "Before function call:\n",
            "Immutable: 10\n",
            "Mutable: [1, 2, 3]\n",
            "Inside function (immutable): 11\n",
            "Inside function (mutable): [1, 2, 3, 4]\n",
            "After function call:\n",
            "Immutable: 10\n",
            "Mutable: [1, 2, 3, 4]\n"
          ]
        }
      ]
    },
    {
      "cell_type": "code",
      "source": [
        "# Q8. Write a program to demonstrate the use of logical operators?\n",
        "# Ans.\n",
        "\n",
        "# Function to demonstrate logical operators\n",
        "def logical_operators_demo(a, b):\n",
        "    print(f\"a = {a}, b = {b}\")\n",
        "\n",
        "    # AND operator\n",
        "    print(\"a and b:\", a and b)  # Returns True if both are True\n",
        "\n",
        "    # OR operator\n",
        "    print(\"a or b:\", a or b)  # Returns True if at least one is True\n",
        "\n",
        "    # NOT operator\n",
        "    print(\"not a:\", not a)  # Returns the opposite of a\n",
        "    print(\"not b:\", not b)  # Returns the opposite of b\n",
        "\n",
        "\n",
        "# Test cases\n",
        "print(\"Case 1: a = True, b = False\")\n",
        "logical_operators_demo(True, False)\n",
        "\n",
        "print(\"\\nCase 2: a = False, b = False\")\n",
        "logical_operators_demo(False, False)\n",
        "\n",
        "print(\"\\nCase 3: a = True, b = True\")\n",
        "logical_operators_demo(True, True)"
      ],
      "metadata": {
        "colab": {
          "base_uri": "https://localhost:8080/"
        },
        "id": "OAV2zloYuw-p",
        "outputId": "4d60be97-82dd-48fb-b190-25071ecba10e"
      },
      "execution_count": 2,
      "outputs": [
        {
          "output_type": "stream",
          "name": "stdout",
          "text": [
            "Case 1: a = True, b = False\n",
            "a = True, b = False\n",
            "a and b: False\n",
            "a or b: True\n",
            "not a: False\n",
            "not b: True\n",
            "\n",
            "Case 2: a = False, b = False\n",
            "a = False, b = False\n",
            "a and b: False\n",
            "a or b: False\n",
            "not a: True\n",
            "not b: True\n",
            "\n",
            "Case 3: a = True, b = True\n",
            "a = True, b = True\n",
            "a and b: True\n",
            "a or b: True\n",
            "not a: False\n",
            "not b: False\n"
          ]
        }
      ]
    },
    {
      "cell_type": "code",
      "source": [
        "# Q9. Write a Python program to convert user input from string to integer, float, and boolean types?\n",
        "\n",
        "# Ans.\n",
        "\n",
        "# Get user input as a string\n",
        "user_input = input(\"Enter a value: \")\n",
        "\n",
        "# Convert to integer (if possible)\n",
        "try:\n",
        "    int_value = int(user_input)\n",
        "    print(\"Integer:\", int_value)\n",
        "except ValueError:\n",
        "    print(\"Cannot convert to Integer\")\n",
        "\n",
        "# Convert to float (if possible)\n",
        "try:\n",
        "    float_value = float(user_input)\n",
        "    print(\"Float:\", float_value)\n",
        "except ValueError:\n",
        "    print(\"Cannot convert to Float\")\n",
        "\n",
        "# Convert to boolean\n",
        "bool_value = bool(user_input.strip())  # Empty string is False, others are True\n",
        "print(\"Boolean:\", bool_value)"
      ],
      "metadata": {
        "colab": {
          "base_uri": "https://localhost:8080/"
        },
        "id": "GkD8gEEdvDMv",
        "outputId": "e17d5336-22ed-41fc-bc21-a0cf24c1eb39"
      },
      "execution_count": 3,
      "outputs": [
        {
          "output_type": "stream",
          "name": "stdout",
          "text": [
            "Enter a value: False\n",
            "Cannot convert to Integer\n",
            "Cannot convert to Float\n",
            "Boolean: True\n"
          ]
        }
      ]
    },
    {
      "cell_type": "code",
      "source": [
        "# Q10. Write code to demonstrate type casting with list elements?\n",
        "\n",
        "# Ans.\n",
        "\n",
        "# Sample list with mixed data types as strings\n",
        "str_list = [\"10\", \"20.5\", \"30\", \"True\", \"False\", \"hello\"]\n",
        "\n",
        "# Convert elements to integers (if possible)\n",
        "int_list = []\n",
        "for item in str_list:\n",
        "    try:\n",
        "        int_list.append(int(item))\n",
        "    except ValueError:\n",
        "        int_list.append(None)  # Indicate conversion failure\n",
        "\n",
        "print(\"Integer List:\", int_list)\n",
        "\n",
        "# Convert elements to floats (if possible)\n",
        "float_list = []\n",
        "for item in str_list:\n",
        "    try:\n",
        "        float_list.append(float(item))\n",
        "    except ValueError:\n",
        "        float_list.append(None)\n",
        "\n",
        "print(\"Float List:\", float_list)\n",
        "\n",
        "# Convert elements to boolean values\n",
        "bool_list = [bool(item) for item in str_list]\n",
        "\n",
        "print(\"Boolean List:\", bool_list)"
      ],
      "metadata": {
        "colab": {
          "base_uri": "https://localhost:8080/"
        },
        "id": "qQ28Py9NviK3",
        "outputId": "a9bce20a-fb2f-4bf4-a12e-d762050d0abb"
      },
      "execution_count": 4,
      "outputs": [
        {
          "output_type": "stream",
          "name": "stdout",
          "text": [
            "Integer List: [10, None, 30, None, None, None]\n",
            "Float List: [10.0, 20.5, 30.0, None, None, None]\n",
            "Boolean List: [True, True, True, True, True, True]\n"
          ]
        }
      ]
    },
    {
      "cell_type": "code",
      "source": [
        "# Q11. Write a program that checks if a number is positive, negative, or zero?\n",
        "\n",
        "# Ans.\n",
        "\n",
        "# Get user input\n",
        "num = float(input(\"Enter a number: \"))\n",
        "\n",
        "# Check if the number is positive, negative, or zero\n",
        "if num > 0:\n",
        "    print(\"The number is positive.\")\n",
        "elif num < 0:\n",
        "    print(\"The number is negative.\")\n",
        "else:\n",
        "    print(\"The number is zero.\")"
      ],
      "metadata": {
        "colab": {
          "base_uri": "https://localhost:8080/"
        },
        "id": "uJv4C8KZv1FH",
        "outputId": "d11fbdd1-f801-4300-accf-2f5b167d19bc"
      },
      "execution_count": 5,
      "outputs": [
        {
          "output_type": "stream",
          "name": "stdout",
          "text": [
            "Enter a number: -10\n",
            "The number is negative.\n"
          ]
        }
      ]
    },
    {
      "cell_type": "code",
      "source": [
        "# Q12. Write a for loop to print numbers from 1 to 100?\n",
        "\n",
        "# Ans.\n",
        "\n",
        "for num in range(1, 101):\n",
        "    print(num)"
      ],
      "metadata": {
        "colab": {
          "base_uri": "https://localhost:8080/"
        },
        "id": "K3Aps8A9wCFS",
        "outputId": "e47b70f2-4c4e-461b-f970-b31216bb7fae"
      },
      "execution_count": 7,
      "outputs": [
        {
          "output_type": "stream",
          "name": "stdout",
          "text": [
            "1\n",
            "2\n",
            "3\n",
            "4\n",
            "5\n",
            "6\n",
            "7\n",
            "8\n",
            "9\n",
            "10\n",
            "11\n",
            "12\n",
            "13\n",
            "14\n",
            "15\n",
            "16\n",
            "17\n",
            "18\n",
            "19\n",
            "20\n",
            "21\n",
            "22\n",
            "23\n",
            "24\n",
            "25\n",
            "26\n",
            "27\n",
            "28\n",
            "29\n",
            "30\n",
            "31\n",
            "32\n",
            "33\n",
            "34\n",
            "35\n",
            "36\n",
            "37\n",
            "38\n",
            "39\n",
            "40\n",
            "41\n",
            "42\n",
            "43\n",
            "44\n",
            "45\n",
            "46\n",
            "47\n",
            "48\n",
            "49\n",
            "50\n",
            "51\n",
            "52\n",
            "53\n",
            "54\n",
            "55\n",
            "56\n",
            "57\n",
            "58\n",
            "59\n",
            "60\n",
            "61\n",
            "62\n",
            "63\n",
            "64\n",
            "65\n",
            "66\n",
            "67\n",
            "68\n",
            "69\n",
            "70\n",
            "71\n",
            "72\n",
            "73\n",
            "74\n",
            "75\n",
            "76\n",
            "77\n",
            "78\n",
            "79\n",
            "80\n",
            "81\n",
            "82\n",
            "83\n",
            "84\n",
            "85\n",
            "86\n",
            "87\n",
            "88\n",
            "89\n",
            "90\n",
            "91\n",
            "92\n",
            "93\n",
            "94\n",
            "95\n",
            "96\n",
            "97\n",
            "98\n",
            "99\n",
            "100\n"
          ]
        }
      ]
    },
    {
      "cell_type": "code",
      "source": [
        "# Q13. Write a Python program to find the sum of all even numbers between 1 and 50?\n",
        "\n",
        "#Ans.\n",
        "\n",
        "# Initialize sum variable\n",
        "sum_even = 0\n",
        "\n",
        "# Loop through numbers from 1 to 50\n",
        "for num in range(2, 51, 2):  # Step of 2 ensures only even numbers\n",
        "    sum_even += num\n",
        "\n",
        "# Print the result\n",
        "print(\"Sum of even numbers between 1 and 50:\", sum_even)"
      ],
      "metadata": {
        "colab": {
          "base_uri": "https://localhost:8080/"
        },
        "id": "oEP9k0gxwYPe",
        "outputId": "8244bdd8-971e-46d1-8825-e0aed872e997"
      },
      "execution_count": 8,
      "outputs": [
        {
          "output_type": "stream",
          "name": "stdout",
          "text": [
            "Sum of even numbers between 1 and 50: 650\n"
          ]
        }
      ]
    },
    {
      "cell_type": "code",
      "source": [
        "# Q14. Write a program to reverse a string using a while loop?\n",
        "\n",
        "# Ans.\n",
        "\n",
        "# Get user input\n",
        "text = input(\"Enter a string: \")\n",
        "\n",
        "# Initialize an empty string for the reversed result\n",
        "reversed_text = \"\"\n",
        "\n",
        "# Get the length of the string\n",
        "i = len(text) - 1  # Start from the last index\n",
        "\n",
        "# Use a while loop to iterate in reverse order\n",
        "while i >= 0:\n",
        "    reversed_text += text[i]  # Append the character to the reversed string\n",
        "    i -= 1  # Move to the previous character\n",
        "\n",
        "# Print the reversed string\n",
        "print(\"Reversed string:\", reversed_text)"
      ],
      "metadata": {
        "colab": {
          "base_uri": "https://localhost:8080/"
        },
        "id": "QNww0vb1wsLs",
        "outputId": "e0e8b4c3-cacb-4c31-bf5b-ebf373e658e8"
      },
      "execution_count": 9,
      "outputs": [
        {
          "output_type": "stream",
          "name": "stdout",
          "text": [
            "Enter a string: NAZ BANO\n",
            "Reversed string: ONAB ZAN\n"
          ]
        }
      ]
    },
    {
      "cell_type": "code",
      "source": [
        "# Q15. Write a Python program to calculate the factorial of a number provided by the user using a while loop.?\n",
        "\n",
        "# Ans.\n",
        "\n",
        "# Get user input\n",
        "num = int(input(\"Enter a number: \"))\n",
        "\n",
        "# Initialize factorial variable\n",
        "factorial = 1\n",
        "\n",
        "# Ensure the number is non-negative\n",
        "if num < 0:\n",
        "    print(\"Factorial is not defined for negative numbers.\")\n",
        "elif num == 0:\n",
        "    print(\"Factorial of 0 is 1.\")\n",
        "else:\n",
        "    i = num  # Start from the given number\n",
        "    while i > 0:\n",
        "        factorial *= i  # Multiply current value of i\n",
        "        i -= 1  # Decrease i by 1\n",
        "\n",
        "    # Print the result\n",
        "    print(f\"Factorial of {num} is {factorial}\")"
      ],
      "metadata": {
        "colab": {
          "base_uri": "https://localhost:8080/"
        },
        "id": "DCqY22gmw5RA",
        "outputId": "9e4d6c06-a9d1-4273-d22e-6891e4273d7b"
      },
      "execution_count": 10,
      "outputs": [
        {
          "output_type": "stream",
          "name": "stdout",
          "text": [
            "Enter a number: 25\n",
            "Factorial of 25 is 15511210043330985984000000\n"
          ]
        }
      ]
    },
    {
      "cell_type": "code",
      "source": [],
      "metadata": {
        "id": "ZObhHJJqxcs4"
      },
      "execution_count": null,
      "outputs": []
    }
  ]
}